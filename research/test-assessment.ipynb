{
 "cells": [
  {
   "cell_type": "code",
   "execution_count": 1,
   "metadata": {},
   "outputs": [],
   "source": [
    "import jiwer"
   ]
  },
  {
   "cell_type": "code",
   "execution_count": 15,
   "metadata": {},
   "outputs": [],
   "source": [
    "def highlight_differences(true_text, pred_text):\n",
    "    true_words = true_text.split()\n",
    "    pred_words = pred_text.split()\n",
    "    \n",
    "    # Initialize lists for highlighted words\n",
    "    highlighted = []\n",
    "    print('true_words:', true_words)\n",
    "    print('pred_words:', pred_words)\n",
    "    # Compare words in true and predicted text\n",
    "    max_len = max(len(true_words), len(pred_words))\n",
    "    for i in range(max_len):\n",
    "        pred_word = pred_words[i] if i < len(pred_words) else \"\"\n",
    "        print('pred_word:', pred_word)\n",
    "        if pred_word in true_words:\n",
    "            highlighted.append(f\"\\033[92m{pred_word}\\033[0m\")  # Green for correct\n",
    "        else:\n",
    "            highlighted.append(f\"\\033[91m{pred_word}\\033[0m\")  # Red for incorrect\n",
    "\n",
    "    return ' '.join(highlighted)"
   ]
  },
  {
   "cell_type": "code",
   "execution_count": 16,
   "metadata": {},
   "outputs": [
    {
     "name": "stdout",
     "output_type": "stream",
     "text": [
      "true_words: ['A', 'memorable', 'event', 'from', 'my', 'childhood', 'was', 'the', 'time', 'I', 'won', 'first', 'place', 'in', 'a', 'school', 'science', 'fair', 'with', 'my', 'homemade', 'volcano', 'project.']\n",
      "pred_words: ['memorable', 'even', 'from', 'my', 'childhood', 'work', 'time', 'I', 'want', 'for', 'play', 'is', 'gushan', 'fair', 'with', 'my', 'homemade', 'volcano', 'protest']\n",
      "pred_word: memorable\n",
      "pred_word: even\n",
      "pred_word: from\n",
      "pred_word: my\n",
      "pred_word: childhood\n",
      "pred_word: work\n",
      "pred_word: time\n",
      "pred_word: I\n",
      "pred_word: want\n",
      "pred_word: for\n",
      "pred_word: play\n",
      "pred_word: is\n",
      "pred_word: gushan\n",
      "pred_word: fair\n",
      "pred_word: with\n",
      "pred_word: my\n",
      "pred_word: homemade\n",
      "pred_word: volcano\n",
      "pred_word: protest\n",
      "pred_word: \n",
      "pred_word: \n",
      "pred_word: \n",
      "pred_word: \n",
      "\u001b[92mmemorable\u001b[0m \u001b[91meven\u001b[0m \u001b[92mfrom\u001b[0m \u001b[92mmy\u001b[0m \u001b[92mchildhood\u001b[0m \u001b[91mwork\u001b[0m \u001b[92mtime\u001b[0m \u001b[92mI\u001b[0m \u001b[91mwant\u001b[0m \u001b[91mfor\u001b[0m \u001b[91mplay\u001b[0m \u001b[91mis\u001b[0m \u001b[91mgushan\u001b[0m \u001b[92mfair\u001b[0m \u001b[92mwith\u001b[0m \u001b[92mmy\u001b[0m \u001b[92mhomemade\u001b[0m \u001b[92mvolcano\u001b[0m \u001b[91mprotest\u001b[0m \u001b[91m\u001b[0m \u001b[91m\u001b[0m \u001b[91m\u001b[0m \u001b[91m\u001b[0m\n"
     ]
    }
   ],
   "source": [
    "reference_text = \"A memorable event from my childhood was the time I won first place in a school science fair with my homemade volcano project.\"\n",
    "transcription = \"memorable even from my childhood work time I want for play is gushan fair with my homemade volcano protest\"\n",
    "\n",
    "sentences_diff = highlight_differences(reference_text, transcription)\n",
    "print(sentences_diff)"
   ]
  }
 ],
 "metadata": {
  "kernelspec": {
   "display_name": "Python 3",
   "language": "python",
   "name": "python3"
  },
  "language_info": {
   "codemirror_mode": {
    "name": "ipython",
    "version": 3
   },
   "file_extension": ".py",
   "mimetype": "text/x-python",
   "name": "python",
   "nbconvert_exporter": "python",
   "pygments_lexer": "ipython3",
   "version": "3.10.3"
  }
 },
 "nbformat": 4,
 "nbformat_minor": 2
}
