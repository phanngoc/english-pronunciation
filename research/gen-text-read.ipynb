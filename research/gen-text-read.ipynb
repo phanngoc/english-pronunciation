{
 "cells": [
  {
   "cell_type": "code",
   "execution_count": 2,
   "metadata": {},
   "outputs": [],
   "source": [
    "import openai\n",
    "from openai import OpenAI\n",
    "import dotenv\n",
    "import os\n",
    "\n",
    "# Load environment variables from file\n",
    "dotenv.load_dotenv('../.env')\n",
    "\n",
    "apiKey = os.getenv(\"OPENAI_API_KEY\")\n",
    "client = OpenAI(api_key=apiKey)\n",
    "GPT_MODEL = 'gpt-4o'"
   ]
  },
  {
   "cell_type": "code",
   "execution_count": 9,
   "metadata": {},
   "outputs": [],
   "source": [
    "system_prompt = \"\"\"\n",
    "    I am english learner, you are coach, suggest me one sentence to practice speaking, for intermediate level.\n",
    "    Sentence less than 2 lines.\n",
    "    \\n\\n\n",
    "    \"\"\"\n",
    "topic1 = \"interview backend enginnering job.\"\n",
    "topic2 = \"holiday in Japan.\"\n",
    "\n",
    "chat_message = topic2"
   ]
  },
  {
   "cell_type": "code",
   "execution_count": 10,
   "metadata": {},
   "outputs": [],
   "source": [
    "messages = [\n",
    "    {\"role\": \"system\", \"content\": f\"{system_prompt}\"},\n",
    "    {\"role\": \"user\", \"content\": chat_message},\n",
    "]\n",
    "response = client.chat.completions.create(\n",
    "    model=GPT_MODEL,\n",
    "    messages=messages,\n",
    "    max_tokens=200,\n",
    "    top_p=1.0,\n",
    "    n=1,\n",
    "    stop=None,\n",
    "    temperature=0.7)\n",
    "\n",
    "summary = response.choices"
   ]
  },
  {
   "cell_type": "code",
   "execution_count": 11,
   "metadata": {},
   "outputs": [
    {
     "name": "stdout",
     "output_type": "stream",
     "text": [
      "type: <class 'openai.types.chat.chat_completion.Choice'>\n",
      "message: \"During my holiday in Japan, I visited Kyoto's beautiful temples and experienced the vibrant culture of Tokyo.\"\n",
      "index: 0\n",
      "role: assistant\n"
     ]
    }
   ],
   "source": [
    "for i in summary:\n",
    "    print('type:', type(i))\n",
    "    print('message:', i.message.content)\n",
    "    print('index:', i.index)\n",
    "    print('role:', i.message.role)"
   ]
  }
 ],
 "metadata": {
  "kernelspec": {
   "display_name": "Python 3",
   "language": "python",
   "name": "python3"
  },
  "language_info": {
   "codemirror_mode": {
    "name": "ipython",
    "version": 3
   },
   "file_extension": ".py",
   "mimetype": "text/x-python",
   "name": "python",
   "nbconvert_exporter": "python",
   "pygments_lexer": "ipython3",
   "version": "3.10.3"
  }
 },
 "nbformat": 4,
 "nbformat_minor": 2
}
