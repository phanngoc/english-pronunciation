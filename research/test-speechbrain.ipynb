{
 "cells": [
  {
   "cell_type": "code",
   "execution_count": 1,
   "metadata": {},
   "outputs": [
    {
     "name": "stdout",
     "output_type": "stream",
     "text": [
      "Collecting speechbrain\n",
      "  Downloading speechbrain-1.0.0-py3-none-any.whl.metadata (23 kB)\n",
      "Collecting hyperpyyaml (from speechbrain)\n",
      "  Downloading HyperPyYAML-1.2.2-py3-none-any.whl.metadata (7.6 kB)\n",
      "Requirement already satisfied: joblib in /Users/ngocp/.pyenv/versions/3.10.3/lib/python3.10/site-packages (from speechbrain) (1.2.0)\n",
      "Requirement already satisfied: numpy in /Users/ngocp/.pyenv/versions/3.10.3/lib/python3.10/site-packages (from speechbrain) (1.22.0)\n",
      "Requirement already satisfied: packaging in /Users/ngocp/.pyenv/versions/3.10.3/lib/python3.10/site-packages (from speechbrain) (24.1)\n",
      "Requirement already satisfied: scipy in /Users/ngocp/.pyenv/versions/3.10.3/lib/python3.10/site-packages (from speechbrain) (1.11.4)\n",
      "Requirement already satisfied: sentencepiece in /Users/ngocp/.pyenv/versions/3.10.3/lib/python3.10/site-packages (from speechbrain) (0.1.99)\n",
      "Requirement already satisfied: torch>=1.9 in /Users/ngocp/.pyenv/versions/3.10.3/lib/python3.10/site-packages (from speechbrain) (2.3.1)\n",
      "Requirement already satisfied: torchaudio in /Users/ngocp/.pyenv/versions/3.10.3/lib/python3.10/site-packages (from speechbrain) (2.3.1)\n",
      "Requirement already satisfied: tqdm in /Users/ngocp/.pyenv/versions/3.10.3/lib/python3.10/site-packages (from speechbrain) (4.64.1)\n",
      "Requirement already satisfied: huggingface-hub in /Users/ngocp/.pyenv/versions/3.10.3/lib/python3.10/site-packages (from speechbrain) (0.24.0)\n",
      "Requirement already satisfied: filelock in /Users/ngocp/.pyenv/versions/3.10.3/lib/python3.10/site-packages (from torch>=1.9->speechbrain) (3.9.0)\n",
      "Requirement already satisfied: typing-extensions>=4.8.0 in /Users/ngocp/.pyenv/versions/3.10.3/lib/python3.10/site-packages (from torch>=1.9->speechbrain) (4.12.2)\n",
      "Requirement already satisfied: sympy in /Users/ngocp/.pyenv/versions/3.10.3/lib/python3.10/site-packages (from torch>=1.9->speechbrain) (1.12)\n",
      "Requirement already satisfied: networkx in /Users/ngocp/.pyenv/versions/3.10.3/lib/python3.10/site-packages (from torch>=1.9->speechbrain) (2.8.8)\n",
      "Requirement already satisfied: jinja2 in /Users/ngocp/.pyenv/versions/3.10.3/lib/python3.10/site-packages (from torch>=1.9->speechbrain) (3.1.2)\n",
      "Requirement already satisfied: fsspec in /Users/ngocp/.pyenv/versions/3.10.3/lib/python3.10/site-packages (from torch>=1.9->speechbrain) (2023.6.0)\n",
      "Requirement already satisfied: pyyaml>=5.1 in /Users/ngocp/.pyenv/versions/3.10.3/lib/python3.10/site-packages (from huggingface-hub->speechbrain) (6.0)\n",
      "Requirement already satisfied: requests in /Users/ngocp/.pyenv/versions/3.10.3/lib/python3.10/site-packages (from huggingface-hub->speechbrain) (2.31.0)\n",
      "Collecting ruamel.yaml>=0.17.28 (from hyperpyyaml->speechbrain)\n",
      "  Downloading ruamel.yaml-0.18.6-py3-none-any.whl.metadata (23 kB)\n",
      "Collecting ruamel.yaml.clib>=0.2.7 (from ruamel.yaml>=0.17.28->hyperpyyaml->speechbrain)\n",
      "  Downloading ruamel.yaml.clib-0.2.8-cp310-cp310-macosx_10_9_universal2.whl.metadata (2.2 kB)\n",
      "Requirement already satisfied: MarkupSafe>=2.0 in /Users/ngocp/.pyenv/versions/3.10.3/lib/python3.10/site-packages (from jinja2->torch>=1.9->speechbrain) (2.1.2)\n",
      "Requirement already satisfied: charset-normalizer<4,>=2 in /Users/ngocp/.pyenv/versions/3.10.3/lib/python3.10/site-packages (from requests->huggingface-hub->speechbrain) (3.0.1)\n",
      "Requirement already satisfied: idna<4,>=2.5 in /Users/ngocp/.pyenv/versions/3.10.3/lib/python3.10/site-packages (from requests->huggingface-hub->speechbrain) (3.4)\n",
      "Requirement already satisfied: urllib3<3,>=1.21.1 in /Users/ngocp/.pyenv/versions/3.10.3/lib/python3.10/site-packages (from requests->huggingface-hub->speechbrain) (1.26.14)\n",
      "Requirement already satisfied: certifi>=2017.4.17 in /Users/ngocp/.pyenv/versions/3.10.3/lib/python3.10/site-packages (from requests->huggingface-hub->speechbrain) (2022.12.7)\n",
      "Requirement already satisfied: mpmath>=0.19 in /Users/ngocp/.pyenv/versions/3.10.3/lib/python3.10/site-packages (from sympy->torch>=1.9->speechbrain) (1.3.0)\n",
      "Downloading speechbrain-1.0.0-py3-none-any.whl (760 kB)\n",
      "\u001b[2K   \u001b[90m━━━━━━━━━━━━━━━━━━━━━━━━━━━━━━━━━━━━━━━━\u001b[0m \u001b[32m760.1/760.1 kB\u001b[0m \u001b[31m3.6 MB/s\u001b[0m eta \u001b[36m0:00:00\u001b[0ma \u001b[36m0:00:01\u001b[0m\n",
      "\u001b[?25hDownloading HyperPyYAML-1.2.2-py3-none-any.whl (16 kB)\n",
      "Downloading ruamel.yaml-0.18.6-py3-none-any.whl (117 kB)\n",
      "\u001b[2K   \u001b[90m━━━━━━━━━━━━━━━━━━━━━━━━━━━━━━━━━━━━━━━━\u001b[0m \u001b[32m117.8/117.8 kB\u001b[0m \u001b[31m3.6 MB/s\u001b[0m eta \u001b[36m0:00:00\u001b[0m\n",
      "\u001b[?25hDownloading ruamel.yaml.clib-0.2.8-cp310-cp310-macosx_10_9_universal2.whl (148 kB)\n",
      "\u001b[2K   \u001b[90m━━━━━━━━━━━━━━━━━━━━━━━━━━━━━━━━━━━━━━━━\u001b[0m \u001b[32m148.2/148.2 kB\u001b[0m \u001b[31m4.8 MB/s\u001b[0m eta \u001b[36m0:00:00\u001b[0m\n",
      "\u001b[?25h\u001b[33mWARNING: Error parsing dependencies of textract: .* suffix can only be used with `==` or `!=` operators\n",
      "    extract-msg (<=0.29.*)\n",
      "                 ~~~~~~~^\u001b[0m\u001b[33m\n",
      "\u001b[0mInstalling collected packages: ruamel.yaml.clib, ruamel.yaml, hyperpyyaml, speechbrain\n",
      "Successfully installed hyperpyyaml-1.2.2 ruamel.yaml-0.18.6 ruamel.yaml.clib-0.2.8 speechbrain-1.0.0\n"
     ]
    }
   ],
   "source": [
    "!pip install speechbrain"
   ]
  },
  {
   "cell_type": "code",
   "execution_count": null,
   "metadata": {},
   "outputs": [],
   "source": [
    "import speechbrain as sb"
   ]
  },
  {
   "cell_type": "code",
   "execution_count": 1,
   "metadata": {},
   "outputs": [
    {
     "name": "stderr",
     "output_type": "stream",
     "text": [
      "/Users/ngocp/.pyenv/versions/3.10.3/lib/python3.10/site-packages/torchvision/io/image.py:13: UserWarning: Failed to load image Python extension: 'dlopen(/Users/ngocp/.pyenv/versions/3.10.3/lib/python3.10/site-packages/torchvision/image.so, 0x0006): Symbol not found: (__ZN3c1017RegisterOperatorsD1Ev)\n",
      "  Referenced from: '/Users/ngocp/.pyenv/versions/3.10.3/lib/python3.10/site-packages/torchvision/image.so'\n",
      "  Expected in: '/Users/ngocp/.pyenv/versions/3.10.3/lib/python3.10/site-packages/torch/lib/libtorch_cpu.dylib''If you don't plan on using image functionality from `torchvision.io`, you can ignore this warning. Otherwise, there might be something wrong with your environment. Did you have `libjpeg` or `libpng` installed before building `torchvision` from source?\n",
      "  warn(\n"
     ]
    },
    {
     "data": {
      "application/vnd.jupyter.widget-view+json": {
       "model_id": "ac7cbf59e7274d8b8f4487a552d8c8b6",
       "version_major": 2,
       "version_minor": 0
      },
      "text/plain": [
       "hyperparams.yaml:   0%|          | 0.00/4.91k [00:00<?, ?B/s]"
      ]
     },
     "metadata": {},
     "output_type": "display_data"
    },
    {
     "data": {
      "application/vnd.jupyter.widget-view+json": {
       "model_id": "09b0966327ad4d8ba0708fab50c12707",
       "version_major": 2,
       "version_minor": 0
      },
      "text/plain": [
       "normalizer.ckpt:   0%|          | 0.00/1.70k [00:00<?, ?B/s]"
      ]
     },
     "metadata": {},
     "output_type": "display_data"
    },
    {
     "data": {
      "application/vnd.jupyter.widget-view+json": {
       "model_id": "268e1892614d47ee9077cc3b844f5e40",
       "version_major": 2,
       "version_minor": 0
      },
      "text/plain": [
       "asr.ckpt:   0%|          | 0.00/442M [00:00<?, ?B/s]"
      ]
     },
     "metadata": {},
     "output_type": "display_data"
    },
    {
     "data": {
      "application/vnd.jupyter.widget-view+json": {
       "model_id": "534b8907d9ab4f6281897a26a3ab6bf4",
       "version_major": 2,
       "version_minor": 0
      },
      "text/plain": [
       "lm.ckpt:   0%|          | 0.00/381M [00:00<?, ?B/s]"
      ]
     },
     "metadata": {},
     "output_type": "display_data"
    },
    {
     "data": {
      "application/vnd.jupyter.widget-view+json": {
       "model_id": "5948e31a97bc473aa0cd6b7a382e81b5",
       "version_major": 2,
       "version_minor": 0
      },
      "text/plain": [
       "tokenizer.ckpt:   0%|          | 0.00/324k [00:00<?, ?B/s]"
      ]
     },
     "metadata": {},
     "output_type": "display_data"
    },
    {
     "data": {
      "application/vnd.jupyter.widget-view+json": {
       "model_id": "3352f2bcbf15431cb74b3ad2f277c41b",
       "version_major": 2,
       "version_minor": 0
      },
      "text/plain": [
       "example.wav:   0%|          | 0.00/104k [00:00<?, ?B/s]"
      ]
     },
     "metadata": {},
     "output_type": "display_data"
    },
    {
     "name": "stderr",
     "output_type": "stream",
     "text": [
      "/Users/ngocp/.pyenv/versions/3.10.3/lib/python3.10/site-packages/torch/nn/functional.py:5137: UserWarning: Support for mismatched key_padding_mask and attn_mask is deprecated. Use same type for both instead.\n",
      "  warnings.warn(\n"
     ]
    },
    {
     "data": {
      "text/plain": [
       "'THE BIRCH CANOE SLID ON THE SMOOTH PLANKS'"
      ]
     },
     "execution_count": 1,
     "metadata": {},
     "output_type": "execute_result"
    }
   ],
   "source": [
    "from speechbrain.inference import EncoderDecoderASR\n",
    "\n",
    "asr_model = EncoderDecoderASR.from_hparams(source=\"speechbrain/asr-conformer-transformerlm-librispeech\",\n",
    "        savedir=\"pretrained_models/asr-transformer-transformerlm-librispeech\")"
   ]
  },
  {
   "cell_type": "code",
   "execution_count": 2,
   "metadata": {},
   "outputs": [
    {
     "name": "stderr",
     "output_type": "stream",
     "text": [
      "/Users/ngocp/.pyenv/versions/3.10.3/lib/python3.10/site-packages/torch/nn/functional.py:5137: UserWarning: Support for mismatched key_padding_mask and attn_mask is deprecated. Use same type for both instead.\n",
      "  warnings.warn(\n"
     ]
    },
    {
     "data": {
      "text/plain": [
       "\"IT TOOK ME QUITE A LONG TIME TO DEVELOP A VOICE AND NOW THAT I HAVE IT I'M NOT GOING TO BE SILENT\""
      ]
     },
     "execution_count": 2,
     "metadata": {},
     "output_type": "execute_result"
    }
   ],
   "source": [
    "asr_model.transcribe_file('output.wav')"
   ]
  }
 ],
 "metadata": {
  "kernelspec": {
   "display_name": "Python 3",
   "language": "python",
   "name": "python3"
  },
  "language_info": {
   "codemirror_mode": {
    "name": "ipython",
    "version": 3
   },
   "file_extension": ".py",
   "mimetype": "text/x-python",
   "name": "python",
   "nbconvert_exporter": "python",
   "pygments_lexer": "ipython3",
   "version": "3.10.3"
  }
 },
 "nbformat": 4,
 "nbformat_minor": 2
}
