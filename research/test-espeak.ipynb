{
 "cells": [
  {
   "cell_type": "code",
   "execution_count": null,
   "metadata": {},
   "outputs": [],
   "source": [
    "import subprocess\n",
    "\n",
    "def text_to_speech(text, output_file):\n",
    "    # Construct the command to execute\n",
    "    command = ['espeak-ng', '-w', output_file, text]\n",
    "    \n",
    "    # Run the command\n",
    "    subprocess.run(command, check=True)\n",
    "\n",
    "# Example usage\n",
    "text_to_speech(\"Technology has significantly transformed how we communicate, work, and live, making our daily tasks more efficient while also raising concerns about privacy and job displacement.\", \"output-standard.wav\")\n"
   ]
  }
 ],
 "metadata": {
  "language_info": {
   "name": "python"
  }
 },
 "nbformat": 4,
 "nbformat_minor": 2
}
